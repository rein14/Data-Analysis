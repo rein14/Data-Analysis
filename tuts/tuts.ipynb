{
 "cells": [
  {
   "cell_type": "code",
   "execution_count": 4,
   "metadata": {},
   "outputs": [
    {
     "name": "stdout",
     "output_type": "stream",
     "text": [
      "(('ama', 'frank'), ('kojo', 'Christy'), ('kwame', 'Mike'))\n"
     ]
    }
   ],
   "source": [
    "a = ('ama', 'kojo', 'kwame')\n",
    "b = ('frank', 'Christy', 'Mike')\n",
    "x = zip(a,b)\n",
    "print(tuple(x))"
   ]
  },
  {
   "cell_type": "code",
   "execution_count": 7,
   "metadata": {},
   "outputs": [
    {
     "name": "stdout",
     "output_type": "stream",
     "text": [
      "ama frank\n",
      "kojo Christy\n",
      "kwame Mike\n"
     ]
    }
   ],
   "source": [
    "for i,j in zip(a,b):\n",
    "    print(i,j)"
   ]
  },
  {
   "cell_type": "code",
   "execution_count": 8,
   "metadata": {},
   "outputs": [
    {
     "ename": "NameError",
     "evalue": "name 'Self' is not defined",
     "output_type": "error",
     "traceback": [
      "\u001b[1;31m---------------------------------------------------------------------------\u001b[0m",
      "\u001b[1;31mNameError\u001b[0m                                 Traceback (most recent call last)",
      "\u001b[1;32md:\\WORK\\PROJECTS\\Data Analysis\\tuts\\tuts.ipynb Cell 3\u001b[0m in \u001b[0;36m<cell line: 1>\u001b[1;34m()\u001b[0m\n\u001b[1;32m----> <a href='vscode-notebook-cell:/d%3A/WORK/PROJECTS/Data%20Analysis/tuts/tuts.ipynb#W2sZmlsZQ%3D%3D?line=0'>1</a>\u001b[0m \u001b[39mclass\u001b[39;00m \u001b[39mMyInt\u001b[39;00m:\n\u001b[0;32m      <a href='vscode-notebook-cell:/d%3A/WORK/PROJECTS/Data%20Analysis/tuts/tuts.ipynb#W2sZmlsZQ%3D%3D?line=1'>2</a>\u001b[0m     \u001b[39m@classmethod\u001b[39m\n\u001b[0;32m      <a href='vscode-notebook-cell:/d%3A/WORK/PROJECTS/Data%20Analysis/tuts/tuts.ipynb#W2sZmlsZQ%3D%3D?line=2'>3</a>\u001b[0m     \u001b[39mdef\u001b[39;00m \u001b[39mfromhex\u001b[39m(\u001b[39mcls\u001b[39m, s: \u001b[39mstr\u001b[39m) \u001b[39m-\u001b[39m\u001b[39m>\u001b[39m Self:\n\u001b[0;32m      <a href='vscode-notebook-cell:/d%3A/WORK/PROJECTS/Data%20Analysis/tuts/tuts.ipynb#W2sZmlsZQ%3D%3D?line=3'>4</a>\u001b[0m         \u001b[39mreturn\u001b[39;00m \u001b[39mcls\u001b[39m(\u001b[39mint\u001b[39m(s, \u001b[39m16\u001b[39m))\n",
      "\u001b[1;32md:\\WORK\\PROJECTS\\Data Analysis\\tuts\\tuts.ipynb Cell 3\u001b[0m in \u001b[0;36mMyInt\u001b[1;34m()\u001b[0m\n\u001b[0;32m      <a href='vscode-notebook-cell:/d%3A/WORK/PROJECTS/Data%20Analysis/tuts/tuts.ipynb#W2sZmlsZQ%3D%3D?line=0'>1</a>\u001b[0m \u001b[39mclass\u001b[39;00m \u001b[39mMyInt\u001b[39;00m:\n\u001b[0;32m      <a href='vscode-notebook-cell:/d%3A/WORK/PROJECTS/Data%20Analysis/tuts/tuts.ipynb#W2sZmlsZQ%3D%3D?line=1'>2</a>\u001b[0m     \u001b[39m@classmethod\u001b[39m\n\u001b[1;32m----> <a href='vscode-notebook-cell:/d%3A/WORK/PROJECTS/Data%20Analysis/tuts/tuts.ipynb#W2sZmlsZQ%3D%3D?line=2'>3</a>\u001b[0m     \u001b[39mdef\u001b[39;00m \u001b[39mfromhex\u001b[39m(\u001b[39mcls\u001b[39m, s: \u001b[39mstr\u001b[39m) \u001b[39m-\u001b[39m\u001b[39m>\u001b[39m Self:\n\u001b[0;32m      <a href='vscode-notebook-cell:/d%3A/WORK/PROJECTS/Data%20Analysis/tuts/tuts.ipynb#W2sZmlsZQ%3D%3D?line=3'>4</a>\u001b[0m         \u001b[39mreturn\u001b[39;00m \u001b[39mcls\u001b[39m(\u001b[39mint\u001b[39m(s, \u001b[39m16\u001b[39m))\n",
      "\u001b[1;31mNameError\u001b[0m: name 'Self' is not defined"
     ]
    }
   ],
   "source": [
    "# class MyInt:\n",
    "#     @classmethod\n",
    "#     def fromhex(cls, s: str) -> Self:\n",
    "#         return cls(int(s, 16))"
   ]
  },
  {
   "cell_type": "code",
   "execution_count": 9,
   "metadata": {},
   "outputs": [
    {
     "name": "stdout",
     "output_type": "stream",
     "text": [
      "hello  Rahul\n"
     ]
    }
   ],
   "source": [
    "class Test:\n",
    "   def hello(self, name):\n",
    "      print ('hello ', name)\n",
    "\n",
    "obj = Test()\n",
    "obj.hello('Rahul')"
   ]
  },
  {
   "cell_type": "code",
   "execution_count": 12,
   "metadata": {},
   "outputs": [
    {
     "name": "stdout",
     "output_type": "stream",
     "text": [
      "hello  Rahul\n"
     ]
    }
   ],
   "source": [
    "class Test:\n",
    "    @classmethod\n",
    "    def hello(cls, name):\n",
    "        print ('hello ', name)\n",
    "\n",
    "Test.hello('Rahul')"
   ]
  },
  {
   "cell_type": "code",
   "execution_count": null,
   "metadata": {},
   "outputs": [],
   "source": [
    "@typing.dataclass_transform()\n",
    "def create_model(cls: Type[T]) -> Type[T]:\n",
    "    cls.__init__ = ...\n",
    "    cls.__eq__ = ...\n",
    "    cls.__ne__ = ...\n",
    "    return cls\n",
    "\n",
    "# The create_model decorator can now be used to create new model classes:\n",
    "@create_model\n",
    "class CustomerModel:\n",
    "    id: int\n",
    "    name: str\n",
    "\n",
    "c = CustomerModel(id=327, name=\"Eric Idle\")"
   ]
  }
 ],
 "metadata": {
  "kernelspec": {
   "display_name": "Python 3.9.12 ('base')",
   "language": "python",
   "name": "python3"
  },
  "language_info": {
   "codemirror_mode": {
    "name": "ipython",
    "version": 3
   },
   "file_extension": ".py",
   "mimetype": "text/x-python",
   "name": "python",
   "nbconvert_exporter": "python",
   "pygments_lexer": "ipython3",
   "version": "3.9.12 (main, Apr  4 2022, 05:22:27) [MSC v.1916 64 bit (AMD64)]"
  },
  "orig_nbformat": 4,
  "vscode": {
   "interpreter": {
    "hash": "2043299c89c8cd0b4d1a6f5cf4529bd58e6a4e0fe3181a25e0d328c821cdc5c5"
   }
  }
 },
 "nbformat": 4,
 "nbformat_minor": 2
}
